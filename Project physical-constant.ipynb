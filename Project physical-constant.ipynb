{
 "cells": [
  {
   "cell_type": "markdown",
   "metadata": {},
   "source": [
    "# Project: physical-constant\n",
    "### Wenjie Chen\n",
    "### Jun 18th, 2018"
   ]
  },
  {
   "cell_type": "markdown",
   "metadata": {},
   "source": [
    "## 0. Introduction\n",
    "\n",
    "The following definition is extracted from Wikipedia page [physical constant](https://en.wikipedia.org/wiki/Physical_constant):\n",
    "\n",
    "> A physical constant, sometimes fundamental physical constant or universal constant, is a physical quantity that is generally believed to be both universal in nature and have constant value in time. It is contrasted with a mathematical constant, which has a fixed numerical value, but does not directly involve any physical measurement.\n",
    "\n",
    "There are two parts in this project: \n",
    "\n",
    "* a module including physics constant;\n",
    "* a module doing unit conversion.\n",
    "\n",
    "This project is available in my GitHub repository [physics-constant](https://github.com/JackRBlack/physics-constant)."
   ]
  },
  {
   "cell_type": "markdown",
   "metadata": {},
   "source": [
    "## 1. Physics constant"
   ]
  },
  {
   "cell_type": "markdown",
   "metadata": {},
   "source": [
    "The module will be organized in such manner:\n",
    "``` python\n",
    "VAR = value # <symbol> [unit] {relative standard uncertainty} <explanation>\n",
    "```\n",
    "where the value is refered to Wikipedia page [physical constant](https://en.wikipedia.org/wiki/Physical_constant)."
   ]
  },
  {
   "cell_type": "markdown",
   "metadata": {},
   "source": [
    "### 1.1 Universal constants"
   ]
  },
  {
   "cell_type": "code",
   "execution_count": 5,
   "metadata": {
    "collapsed": true
   },
   "outputs": [],
   "source": [
    "# Universal constants\n",
    "\n",
    "c = 299792458 # <c> [m s^-1] {defined} <the speed of light in vacuum>\n",
    "\n",
    "G = 6.67408e-11 # <G> [m^3 kg^-1 s^-2] {4.7e-5} <Newtonian constant of gravitation>\n",
    "\n",
    "h = 6.626070040e-34 # <h> [J s] {1.2e-8} <Planck constant>\n",
    "\n",
    "hbar = 1.054571800e-34 # <\\hbar> [J s] {1.2e-8} <reduced Planck constant, hbar = h/(2*pi)>"
   ]
  },
  {
   "cell_type": "markdown",
   "metadata": {},
   "source": [
    "### 1.2 Electromagnetic constants"
   ]
  },
  {
   "cell_type": "code",
   "execution_count": 8,
   "metadata": {
    "collapsed": true
   },
   "outputs": [],
   "source": [
    "# Electromagnetic constants\n",
    "\n",
    "mu_0 = 1.256637061e-6 # <\\mu_0> [N A^-2] {defined} <magnetic constant (vacuum permeability), defined to be 4*pi*1e-7>\n",
    "\n",
    "e_0 = 8.854187817e-12 # <\\epsilon_0> [F m^-1] {defined} <electric constant (vacuum permittivity), defined to be 1/(mu_0*c^2)>\n",
    "\n",
    "k_e = 8.9875517873681764e9 # <k_e> [kg m^3 s^-4 A^-2] {defined} <Coulomb's constant, defined to be 1/(4*pi*e_0)>\n",
    "\n",
    "e = 1.6021766208e-19 # <e> [C] {6.1e-9} <elementary charge>"
   ]
  },
  {
   "cell_type": "markdown",
   "metadata": {},
   "source": [
    "### 1.3 Atomic and nuclear constants"
   ]
  },
  {
   "cell_type": "code",
   "execution_count": 15,
   "metadata": {
    "collapsed": true
   },
   "outputs": [],
   "source": [
    "# Atomic and nuclear constants\n",
    "\n",
    "a = 7.2973525664e-3 # <\\alpha> [] {2.3e-10} <fine-structure constant, defined to be e^2/(4*pi*e_0*hbar*c)>\n",
    "\n",
    "m_e = 9.10938356e-31 # <m_e> [kg] {1.2e-8} <electron mass>\n",
    "\n",
    "m_p = 1.672621898e-27 # <m_e> [kg] {1.2e-8} <proton mass>\n",
    "\n",
    "a_0 = 5.2917721067e-11 # <a_0> [m] {2.3e-9} <Bohr radius, defined to be hbar/(a*m_e*c)>\n",
    "\n",
    "r_e = 2.8179403227e-15 # <r_e> [m] {6.8e-10} <classical electron radius, defined to be e^2/(4*pi*e_0*m_e*c^2)>"
   ]
  },
  {
   "cell_type": "markdown",
   "metadata": {},
   "source": [
    "### 1.4 Physico-chemical constants"
   ]
  },
  {
   "cell_type": "code",
   "execution_count": 21,
   "metadata": {
    "collapsed": true
   },
   "outputs": [],
   "source": [
    "# Physico-chemical constants\n",
    "\n",
    "N_A = 6.022140858e23 # <N_A> [mol^-1] {1.2e-8} <Avogadro constant>\n",
    "\n",
    "k_B = 1.38064853e-23 # <k_B> [J K^-1] {5.7e-7} <Boltzmann constant>\n",
    "\n",
    "R = 8.3144598 # <R> [J mol^-1 K^-1] {5.7e-7} <gas constant, R = N_A * k_B>\n",
    "\n",
    "m_u = 1.660539040e-27 # <m_u> [kg] {1.2e-8} <atomic mass constant>"
   ]
  },
  {
   "cell_type": "markdown",
   "metadata": {},
   "source": [
    "### 1.5 Adopted values"
   ]
  },
  {
   "cell_type": "code",
   "execution_count": 24,
   "metadata": {
    "collapsed": true
   },
   "outputs": [],
   "source": [
    "# Adopted values\n",
    "\n",
    "g_n = 9.80665 # <g_n> [m s^-2] {defined} <standard acceleration of gravity>\n",
    "\n",
    "atm = 101325 # <atm> [Pa] {defined} <standard atmosphere>"
   ]
  },
  {
   "cell_type": "markdown",
   "metadata": {},
   "source": [
    "## 2. Unit conversion"
   ]
  },
  {
   "cell_type": "markdown",
   "metadata": {},
   "source": [
    "The module will be organized in such manner:\n",
    "``` python\n",
    "def UNITA_2_UNITB(varA):\n",
    "    '''\n",
    "        description\n",
    "    '''\n",
    "    {conversion program}\n",
    "    return varB\n",
    "```\n",
    "where `varA` is a value in `UNITA` and `varB` is a value in `UNITB`."
   ]
  },
  {
   "cell_type": "markdown",
   "metadata": {},
   "source": [
    "### 2.1 Temperature"
   ]
  },
  {
   "cell_type": "code",
   "execution_count": 42,
   "metadata": {
    "collapsed": true
   },
   "outputs": [],
   "source": [
    "# Temperature\n",
    "\n",
    "def C_2_F(varA):\n",
    "    '''\n",
    "        Convert Celsius to Fahrenheit.\n",
    "        \n",
    "        Author: Wenjie Chen \n",
    "        E-mail: wenjiechen@pku.edu.cn\n",
    "        \n",
    "        args:\n",
    "            varA : [double] A value in Celsius.\n",
    "            \n",
    "        returns:\n",
    "            varB : [double] A value in Fahrenheit.\n",
    "            \n",
    "        example:\n",
    "            T_F = C_2_F(26.5)\n",
    "    '''\n",
    "    \n",
    "    if varA < -273.15:\n",
    "        raise ValueError('Temperature cannot be lower than -273.15 °C (0 K)!')\n",
    "    varB = varA * 1.8 + 32\n",
    "    return varB\n",
    "\n",
    "def F_2_C(varA):\n",
    "    '''\n",
    "        Convert Fahrenheit to Celsius.\n",
    "        \n",
    "        Author: Wenjie Chen \n",
    "        E-mail: wenjiechen@pku.edu.cn\n",
    "        \n",
    "        args:\n",
    "            varA : [double] A value in Fahrenheit.\n",
    "            \n",
    "        returns:\n",
    "            varB : [double] A value in Celsius.\n",
    "            \n",
    "        example:\n",
    "            T_C = F_2_C(40.5)\n",
    "    '''\n",
    "    \n",
    "    if varA < -459.67:\n",
    "        raise ValueError('Temperature cannot be lower than -459.67 °F (0 K)!')\n",
    "    varB = (varA - 32) / 1.8\n",
    "    return varB\n",
    "\n",
    "def C_2_K(varA):\n",
    "    '''\n",
    "        Convert Celsius to Kelvin.\n",
    "        \n",
    "        Author: Wenjie Chen \n",
    "        E-mail: wenjiechen@pku.edu.cn\n",
    "        \n",
    "        args:\n",
    "            varA : [double] A value in Celsius.\n",
    "            \n",
    "        returns:\n",
    "            varB : [double] A value in Kelvin.\n",
    "            \n",
    "        example:\n",
    "            T_K = C_2_K(26.5)\n",
    "    '''\n",
    "    if varA < -273.15:\n",
    "        raise ValueError('Temperature cannot be lower than -273.15 °C (0 K)!')\n",
    "    varB = varA + 273.15\n",
    "    return varB\n",
    "\n",
    "def K_2_C(varA):\n",
    "    '''\n",
    "        Convert Kelvin to Celsius.\n",
    "        \n",
    "        Author: Wenjie Chen \n",
    "        E-mail: wenjiechen@pku.edu.cn\n",
    "        \n",
    "        args:\n",
    "            varA : [double] A value in Kelvin.\n",
    "            \n",
    "        returns:\n",
    "            varB : [double] A value in Celsius.\n",
    "            \n",
    "        example:\n",
    "            T_C = K_2_C(0)\n",
    "    '''\n",
    "    if varA < 0:\n",
    "        raise ValueError('Temperature cannot be lower than 0 K!')\n",
    "    varB = varA - 273.15\n",
    "    return varB\n",
    "\n",
    "def F_2_K(varA):\n",
    "    '''\n",
    "        Convert Fahrenheit to Kelvin.\n",
    "        \n",
    "        Author: Wenjie Chen \n",
    "        E-mail: wenjiechen@pku.edu.cn\n",
    "        \n",
    "        args:\n",
    "            varA : [double] A value in Fahrenheit.\n",
    "            \n",
    "        returns:\n",
    "            varB : [double] A value in Kelvin.\n",
    "            \n",
    "        example:\n",
    "            T_K = F_2_K(40.5)\n",
    "    '''\n",
    "    \n",
    "    if varA < -459.67:\n",
    "        raise ValueError('Temperature cannot be lower than -459.67 °F (0 K)!')\n",
    "    varB = (varA - 32) / 1.8 + 273.15\n",
    "    return varB\n",
    "\n",
    "def K_2_F(varA):\n",
    "    '''\n",
    "        Convert Kelvin to Fahrenheit.\n",
    "        \n",
    "        Author: Wenjie Chen \n",
    "        E-mail: wenjiechen@pku.edu.cn\n",
    "        \n",
    "        args:\n",
    "            varA : [double] A value in Kelvin.\n",
    "            \n",
    "        returns:\n",
    "            varB : [double] A value in Fahrenheit.\n",
    "            \n",
    "        example:\n",
    "            T_F = K_2_F(0)\n",
    "    '''\n",
    "    if varA < 0:\n",
    "        raise ValueError('Temperature cannot be lower than 0 K!')\n",
    "    varB = (varA - 273.15) * 1.8 + 32\n",
    "    return varB"
   ]
  },
  {
   "cell_type": "code",
   "execution_count": null,
   "metadata": {
    "collapsed": true
   },
   "outputs": [],
   "source": []
  }
 ],
 "metadata": {
  "kernelspec": {
   "display_name": "Python 3",
   "language": "python",
   "name": "python3"
  },
  "language_info": {
   "codemirror_mode": {
    "name": "ipython",
    "version": 3
   },
   "file_extension": ".py",
   "mimetype": "text/x-python",
   "name": "python",
   "nbconvert_exporter": "python",
   "pygments_lexer": "ipython3",
   "version": "3.6.3"
  }
 },
 "nbformat": 4,
 "nbformat_minor": 2
}
