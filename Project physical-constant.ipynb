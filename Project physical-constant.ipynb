{
 "cells": [
  {
   "cell_type": "markdown",
   "metadata": {},
   "source": [
    "# Project: physical-constant\n",
    "### Wenjie Chen\n",
    "### Jun 18th, 2018"
   ]
  },
  {
   "cell_type": "markdown",
   "metadata": {},
   "source": [
    "## 0. Introduction\n",
    "\n",
    "The following definition is extracted from Wikipedia page [physical constant](https://en.wikipedia.org/wiki/Physical_constant):\n",
    "\n",
    "> A physical constant, sometimes fundamental physical constant or universal constant, is a physical quantity that is generally believed to be both universal in nature and have constant value in time. It is contrasted with a mathematical constant, which has a fixed numerical value, but does not directly involve any physical measurement.\n",
    "\n",
    "There are two parts in this project: \n",
    "\n",
    "* a module including physics constant;\n",
    "* a module doing unit conversion.\n",
    "\n",
    "This project is available in my GitHub repository [physics-constant](https://github.com/JackRBlack/physics-constant)."
   ]
  },
  {
   "cell_type": "markdown",
   "metadata": {},
   "source": [
    "## 1. Physics constant"
   ]
  },
  {
   "cell_type": "markdown",
   "metadata": {},
   "source": [
    "The module will be organized in such manner:\n",
    "``` python\n",
    "VAR = value # <symbol> [unit] {relative standard uncertainty} <explanation>\n",
    "```\n",
    "where the value is refered to Wikipedia page [physical constant](https://en.wikipedia.org/wiki/Physical_constant)."
   ]
  },
  {
   "cell_type": "markdown",
   "metadata": {},
   "source": [
    "### 1.1 Universal constants"
   ]
  },
  {
   "cell_type": "code",
   "execution_count": 5,
   "metadata": {
    "collapsed": true
   },
   "outputs": [],
   "source": [
    "# Universal constants\n",
    "\n",
    "c = 299792458 # <c> [m s^-1] {defined} <the speed of light in vacuum>\n",
    "\n",
    "G = 6.67408e-11 # <G> [m^3 kg^-1 s^-2] {4.7e-5} <Newtonian constant of gravitation>\n",
    "\n",
    "h = 6.626070040e-34 # <h> [J s] {1.2e-8} <Planck constant>\n",
    "\n",
    "hbar = 1.054571800e-34 # <\\hbar> [J s] {1.2e-8} <reduced Planck constant, hbar = h/(2*pi)>"
   ]
  },
  {
   "cell_type": "markdown",
   "metadata": {},
   "source": [
    "### 1.2 Electromagnetic constants"
   ]
  },
  {
   "cell_type": "code",
   "execution_count": 8,
   "metadata": {
    "collapsed": true
   },
   "outputs": [],
   "source": [
    "# Electromagnetic constants\n",
    "\n",
    "mu_0 = 1.256637061e-6 # <\\mu_0> [N A^-2] {defined} <magnetic constant (vacuum permeability), defined to be 4*pi*1e-7>\n",
    "\n",
    "e_0 = 8.854187817e-12 # <\\epsilon_0> [F m^-1] {defined} <electric constant (vacuum permittivity), defined to be 1/(mu_0*c^2)>\n",
    "\n",
    "k_e = 8.9875517873681764e9 # <k_e> [kg m^3 s^-4 A^-2] {defined} <Coulomb's constant, defined to be 1/(4*pi*e_0)>\n",
    "\n",
    "e = 1.6021766208e-19 # <e> [C] {6.1e-9} <elementary charge>"
   ]
  },
  {
   "cell_type": "markdown",
   "metadata": {},
   "source": [
    "### 1.3 Atomic and nuclear constants"
   ]
  },
  {
   "cell_type": "code",
   "execution_count": 15,
   "metadata": {
    "collapsed": true
   },
   "outputs": [],
   "source": [
    "# Atomic and nuclear constants\n",
    "\n",
    "a = 7.2973525664e-3 # <\\alpha> [] {2.3e-10} <fine-structure constant, defined to be e^2/(4*pi*e_0*hbar*c)>\n",
    "\n",
    "m_e = 9.10938356e-31 # <m_e> [kg] {1.2e-8} <electron mass>\n",
    "\n",
    "m_p = 1.672621898e-27 # <m_e> [kg] {1.2e-8} <proton mass>\n",
    "\n",
    "a_0 = 5.2917721067e-11 # <a_0> [m] {2.3e-9} <Bohr radius, defined to be hbar/(a*m_e*c)>\n",
    "\n",
    "r_e = 2.8179403227e-15 # <r_e> [m] {6.8e-10} <classical electron radius, defined to be e^2/(4*pi*e_0*m_e*c^2)>"
   ]
  }
 ],
 "metadata": {
  "kernelspec": {
   "display_name": "Python 3",
   "language": "python",
   "name": "python3"
  },
  "language_info": {
   "codemirror_mode": {
    "name": "ipython",
    "version": 3
   },
   "file_extension": ".py",
   "mimetype": "text/x-python",
   "name": "python",
   "nbconvert_exporter": "python",
   "pygments_lexer": "ipython3",
   "version": "3.6.3"
  }
 },
 "nbformat": 4,
 "nbformat_minor": 2
}
